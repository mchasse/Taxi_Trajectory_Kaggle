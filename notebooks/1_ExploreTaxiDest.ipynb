{
 "cells": [
  {
   "cell_type": "markdown",
   "metadata": {},
   "source": [
    "#Initial data exploration and submissions\n",
    "\n",
    "The sample submission estimates every endpoint as 41.146504,-8.61137 (Score:3.66)-- check if this is the mean of the train data.  Having problems here because some of the train data has an empty 'POLYLINE' list entry.  Cycle through manually for now.\n",
    "\n",
    "## The Big Steps\n",
    "\n",
    "1) Generate reatures\n",
    "\n",
    "2) Split up data in CV folds\n",
    "\n",
    "3) Fit and select models\n",
    "\n",
    "4) Write predictions\n",
    "\n",
    "Focus on 1 "
   ]
  },
  {
   "cell_type": "code",
   "execution_count": 3,
   "metadata": {
    "collapsed": true
   },
   "outputs": [],
   "source": [
    "import json\n",
    "import zipfile\n",
    "import pandas as pd\n",
    "import numpy as np\n",
    "import csv as csv\n",
    "import matplotlib.pyplot as plt\n",
    "\n",
    "\n",
    "\n",
    "#return a text parser for the large file, with chunk size \"sz\"\n",
    "def load_train(sz=100):\n",
    "    zf = zipfile.ZipFile(\"../data/train.csv.zip\")\n",
    "    return pd.read_csv(zf.open('train.csv'), chunksize=sz, iterator=True, converters={'POLYLINE': lambda x: json.loads(x)})\n",
    "\n",
    "\n",
    "\n",
    "#remove rows with empty POLYLINE field\n",
    "def rem_empty_polyline(X):\n",
    "    empty_rows=[]\n",
    "    for j in range(len(X['POLYLINE'])):      \n",
    "        entry=X['POLYLINE'].values[j]\n",
    "        if(entry==[]):\n",
    "                  empty_rows.append(j)\n",
    "    return X.drop(X.index[empty_rows])\n",
    "    \n",
    "\n",
    "#remove rows with incomplete GPS data (only ten cases)\n",
    "def rem_missing(X):\n",
    "    empty_rows=[]\n",
    "    for j in range(len(X['MISSING'])):      \n",
    "        entry=X['MISSING'].values[j]\n",
    "        if(entry==\"True\"):\n",
    "            empty_rows.append(j)\n",
    "    return X.drop(X.index[empty_rows])    \n",
    "    \n",
    "    \n",
    "\n",
    "#add the last latitude and longitude from the POLYLINE field to main dataframe X and return it \n",
    "def lat_long_last(X):\n",
    "\n",
    "    latitudes=[]\n",
    "    longitudes=[]\n",
    "    \n",
    "    for j in range(len(X['POLYLINE'])):      \n",
    "        entry=X['POLYLINE'].values[j]\n",
    "        if(len(entry)==0):\n",
    "            latitudes.append(-999)\n",
    "            longitudes.append(-999)\n",
    "        else:\n",
    "            last=entry[-1]           \n",
    "            latitudes.append(last[0])\n",
    "            longitudes.append(last[1])\n",
    "            \n",
    "    X['LAST_LAT']=longitudes \n",
    "    X['LAST_LON']=latitudes\n",
    "    \n",
    "    return X\n",
    "\n",
    "\n",
    "\n",
    "#add the first latitude and longitude from the POLYLINE field to main dataframe X and return it \n",
    "def lat_long_first(X):\n",
    "    \n",
    "    latitudes=[]\n",
    "    longitudes=[]\n",
    "    \n",
    "    for j in range(len(X['POLYLINE'])):      \n",
    "        entry=X['POLYLINE'].values[j]\n",
    "        if(len(entry)==0):\n",
    "            latitudes.append(-999)\n",
    "            longitudes.append(-999)\n",
    "        else:\n",
    "            last=entry[0]           \n",
    "            latitudes.append(last[0])\n",
    "            longitudes.append(last[1])\n",
    "            \n",
    "    X['FIRST_LAT']=longitudes \n",
    "    X['FIRST_LON']=latitudes\n",
    "    \n",
    "    return X\n",
    "\n",
    "\n",
    "\n",
    "# add the second to last latitude and longitude from the POLYLINE field to main dataframe X and return it \n",
    "def lat_long_2ndToLast(X):\n",
    "    \n",
    "    latitudes=[]\n",
    "    longitudes=[]\n",
    "    \n",
    "    for j in range(len(X['POLYLINE'])):      \n",
    "        entry=X['POLYLINE'].values[j]\n",
    "        if(len(entry)==0):\n",
    "            latitudes.append(-999)\n",
    "            longitudes.append(-999)\n",
    "        elif(len(entry)==1):\n",
    "            last=entry[-1]           \n",
    "            latitudes.append(last[0])\n",
    "            longitudes.append(last[1])            \n",
    "        else:\n",
    "            last=entry[-2]           \n",
    "            latitudes.append(last[0])\n",
    "            longitudes.append(last[1])\n",
    "            \n",
    "    X['S2L_LAT']=longitudes \n",
    "    X['S2L_LON']=latitudes\n",
    "    \n",
    "    return X\n",
    "\n"
   ]
  },
  {
   "cell_type": "markdown",
   "metadata": {},
   "source": [
    "# The last latitude and last longitude averages are in fact different than the benchmark submission -- is benchmark the mean of the test data's last points?"
   ]
  },
  {
   "cell_type": "code",
   "execution_count": 4,
   "metadata": {
    "collapsed": false
   },
   "outputs": [],
   "source": [
    "# Find the average final latitude and longitude\n",
    "train_parser=load_train()\n",
    "last_latitudes=np.array([])\n",
    "last_longitudes=np.array([])\n",
    "\n",
    "for chunk in train_parser:\n",
    "    chunk= rem_empty_polyline(chunk) #remove rows with empty gps data\n",
    "    chunk= lat_long_last(chunk) #extract last gps coordinates\n",
    "    last_latitudes=np.append(last_latitudes, chunk['LAST_LAT'].values)\n",
    "    last_longitudes=np.append(last_longitudes, chunk['LAST_LON'].values)\n"
   ]
  },
  {
   "cell_type": "code",
   "execution_count": 5,
   "metadata": {
    "collapsed": false
   },
   "outputs": [
    {
     "data": {
      "text/plain": [
       "41.162326423197499"
      ]
     },
     "execution_count": 5,
     "metadata": {},
     "output_type": "execute_result"
    }
   ],
   "source": [
    "last_latitudes.mean()"
   ]
  },
  {
   "cell_type": "code",
   "execution_count": 6,
   "metadata": {
    "collapsed": false
   },
   "outputs": [
    {
     "data": {
      "text/plain": [
       "-8.6200591303813017"
      ]
     },
     "execution_count": 6,
     "metadata": {},
     "output_type": "execute_result"
    }
   ],
   "source": [
    "last_longitudes.mean()"
   ]
  },
  {
   "cell_type": "markdown",
   "metadata": {},
   "source": [
    "# But how different?\n",
    "\n",
    "Use the competition metric to determine this. With \n",
    "$$ a=\\sin^2\\left(\\phi_2-\\phi_1\\right) + \\cos\\phi_1\\cos\\phi_2 \\sin^2\\left(\\lambda_2 - \\lambda_1\\right) $$\n",
    "where $\\phi_i$ are latitudes and $\\lambda_j$ are longitudes, the haversine distance is:\n",
    "\n",
    "$$d = 2r\\arctan\\left(\\sqrt{\\frac{a}{1-a}}\\right)$$\n",
    "\n",
    "where $r=6371$.  The objective is to minimize the mean haversine distance."
   ]
  },
  {
   "cell_type": "code",
   "execution_count": 21,
   "metadata": {
    "collapsed": false
   },
   "outputs": [],
   "source": [
    "d_2_rad=np.pi/180.0\n",
    "\n",
    "#compute haversine distance between two coordinates (phi_1,lambda_1) and (phi_2,lambda_2)\n",
    "def haversine(phi_1,lambda_1,phi_2,lambda_2):\n",
    "    r=6371  #kilometers\n",
    "    #r=3959 #miles\n",
    "    a= np.sin(d_2_rad*(phi_2-phi_1))**2+np.cos(d_2_rad*phi_1)*np.cos(d_2_rad*phi_2)*np.sin(d_2_rad*(lambda_2-lambda_1))**2\n",
    "    return 2*r*np.arctan(np.sqrt(a/(1-a)))\n",
    "\n",
    "\n",
    "\n",
    "#compute the mean haversine distance between -- not safe, make sure all array dimensions are the same\n",
    "def mean_haversine(phi_1s,lambda_1s,phi_2s,lambda_2s):\n",
    "\n",
    "    total=0\n",
    "    m=len(phi_1s)\n",
    "    for j in range(m):\n",
    "        #print haversine(phi_1s[j],lambda_1s[j],phi_2s[j],lambda_2s[j])\n",
    "        total+=haversine(phi_1s[j],lambda_1s[j],phi_2s[j],lambda_2s[j])\n",
    "\n",
    "    return total/m\n",
    "        "
   ]
  },
  {
   "cell_type": "code",
   "execution_count": 16,
   "metadata": {
    "collapsed": false
   },
   "outputs": [
    {
     "data": {
      "text/plain": [
       "6.3979855078247532"
      ]
     },
     "execution_count": 16,
     "metadata": {},
     "output_type": "execute_result"
    }
   ],
   "source": [
    "n_points=len(last_latitudes)\n",
    "\n",
    "mean_haversine(last_latitudes,last_longitudes,np.array([last_latitudes.mean()]*n_points), np.array([last_longitudes.mean()]*n_points))"
   ]
  },
  {
   "cell_type": "code",
   "execution_count": 25,
   "metadata": {
    "collapsed": false
   },
   "outputs": [
    {
     "data": {
      "text/plain": [
       "6.7883943411132854"
      ]
     },
     "execution_count": 25,
     "metadata": {},
     "output_type": "execute_result"
    }
   ],
   "source": [
    "#compare with the sample submission values 41.146504,-8.61137 --seem to be off by a factor of ~2!?\n",
    "mean_haversine(last_latitudes,last_longitudes,np.array([41.146504]*n_points), np.array([-8.61137]*n_points))\n"
   ]
  },
  {
   "cell_type": "markdown",
   "metadata": {},
   "source": [
    "# Try last point benchmark \n",
    "Score: 3.31766"
   ]
  },
  {
   "cell_type": "code",
   "execution_count": 125,
   "metadata": {
    "collapsed": true
   },
   "outputs": [],
   "source": [
    "import json\n",
    "import zipfile\n",
    "import pandas as pd\n",
    "import numpy as np\n",
    "import csv as csv\n",
    "import matplotlib.pyplot as plt"
   ]
  },
  {
   "cell_type": "code",
   "execution_count": 126,
   "metadata": {
    "collapsed": false
   },
   "outputs": [],
   "source": [
    "\n",
    "zft = zipfile.ZipFile(\"../data/test.csv.zip\")\n",
    "#train = pd.read_csv(zf.open('train.csv'), converters={'POLYLINE': lambda x: json.loads(x)[-1:]})\n",
    "#train = pd.read_csv(zf.open('train.csv'), chunksize=100, iterator=True, converters={'POLYLINE': lambda x: json.loads(x)})\n",
    "test = pd.read_csv(zft.open('test.csv'), chunksize=100, iterator=True, converters={'POLYLINE': lambda x: json.loads(x)[-1]})"
   ]
  },
  {
   "cell_type": "code",
   "execution_count": 127,
   "metadata": {
    "collapsed": false
   },
   "outputs": [],
   "source": [
    "first_chunk=True\n",
    "chunk['TRIP_ID']='\"'+chunk['TRIP_ID']+'\"'\n",
    "\n",
    "for chunk in test:\n",
    "    #chunk.to_csv('../data/1_lastPoint.csv', mode='a')\n",
    "    submit_df=pd.DataFrame({'TRIP_ID':chunk['TRIP_ID'], 'LONGITUDE':np.vstack(chunk['POLYLINE'].values)[:,0], \n",
    "                            'LATITUDE':np.vstack(chunk['POLYLINE'].values)[:,1]})\n",
    "    if first_chunk:\n",
    "        submit_df.to_csv('../data/1_lastPoint.csv', mode='w', columns=['TRIP_ID','LATITUDE','LONGITUDE'], index=False)\n",
    "        first_chunk=False\n",
    "    else:\n",
    "        submit_df.to_csv('../data/1_lastPoint.csv', mode='a', columns=['TRIP_ID','LATITUDE','LONGITUDE'], index=False, header=False)\n",
    "    "
   ]
  },
  {
   "cell_type": "code",
   "execution_count": 46,
   "metadata": {
    "collapsed": false
   },
   "outputs": [],
   "source": [
    "test=pd.DataFrame({'TRIP_ID':chunk['TRIP_ID'], 'LONGITUDE':np.vstack(chunk['POLYLINE'].values)[:,0], \n",
    "                        'LATITUDE':np.vstack(chunk['POLYLINE'].values)[:,1]})"
   ]
  },
  {
   "cell_type": "code",
   "execution_count": 27,
   "metadata": {
    "collapsed": false
   },
   "outputs": [
    {
     "ename": "TypeError",
     "evalue": "string indices must be integers, not str",
     "output_type": "error",
     "traceback": [
      "\u001b[1;31m---------------------------------------------------------------------------\u001b[0m\n\u001b[1;31mTypeError\u001b[0m                                 Traceback (most recent call last)",
      "\u001b[1;32m<ipython-input-27-5a4808d5f94a>\u001b[0m in \u001b[0;36m<module>\u001b[1;34m()\u001b[0m\n\u001b[1;32m----> 1\u001b[1;33m \u001b[0mnp\u001b[0m\u001b[1;33m.\u001b[0m\u001b[0mvstack\u001b[0m\u001b[1;33m(\u001b[0m\u001b[0mchunk\u001b[0m\u001b[1;33m[\u001b[0m\u001b[1;34m'POLYLINE'\u001b[0m\u001b[1;33m]\u001b[0m\u001b[1;33m.\u001b[0m\u001b[0mvalues\u001b[0m\u001b[1;33m)\u001b[0m\u001b[1;33m[\u001b[0m\u001b[1;33m:\u001b[0m\u001b[1;33m,\u001b[0m\u001b[1;36m0\u001b[0m\u001b[1;33m]\u001b[0m\u001b[1;33m\u001b[0m\u001b[0m\n\u001b[0m",
      "\u001b[1;31mTypeError\u001b[0m: string indices must be integers, not str"
     ]
    }
   ],
   "source": [
    "np.vstack(chunk['POLYLINE'].values)[:,0]\n"
   ]
  },
  {
   "cell_type": "markdown",
   "metadata": {},
   "source": [
    "#Sandbox for testing commands:"
   ]
  },
  {
   "cell_type": "code",
   "execution_count": 5,
   "metadata": {
    "collapsed": false
   },
   "outputs": [],
   "source": [
    "rt=np.array([list([1,2]),list([4,5]),list([7,8])])"
   ]
  },
  {
   "cell_type": "code",
   "execution_count": 9,
   "metadata": {
    "collapsed": false
   },
   "outputs": [
    {
     "data": {
      "text/plain": [
       "(3, 2)"
      ]
     },
     "execution_count": 9,
     "metadata": {},
     "output_type": "execute_result"
    }
   ],
   "source": [
    "np.vstack(rt).shape"
   ]
  },
  {
   "cell_type": "code",
   "execution_count": 57,
   "metadata": {
    "collapsed": false
   },
   "outputs": [
    {
     "data": {
      "text/plain": [
       "73.3125"
      ]
     },
     "execution_count": 57,
     "metadata": {},
     "output_type": "execute_result"
    }
   ],
   "source": [
    "(590.0+192)/32.0*3"
   ]
  },
  {
   "cell_type": "code",
   "execution_count": 121,
   "metadata": {
    "collapsed": false
   },
   "outputs": [],
   "source": [
    "a=np.array([\"q2\",\"q4\",\"q7\"])"
   ]
  },
  {
   "cell_type": "code",
   "execution_count": 122,
   "metadata": {
    "collapsed": false
   },
   "outputs": [],
   "source": [
    "for i in range(len(a)):\n",
    "    a[i]=\"\\\"\"+a[i]+\"\\\"\"\n"
   ]
  },
  {
   "cell_type": "code",
   "execution_count": 123,
   "metadata": {
    "collapsed": false
   },
   "outputs": [
    {
     "data": {
      "text/plain": [
       "array(['\"q', '\"q', '\"q'], \n",
       "      dtype='|S2')"
      ]
     },
     "execution_count": 123,
     "metadata": {},
     "output_type": "execute_result"
    }
   ],
   "source": [
    "a"
   ]
  },
  {
   "cell_type": "code",
   "execution_count": 131,
   "metadata": {
    "collapsed": false
   },
   "outputs": [
    {
     "data": {
      "text/plain": [
       "2"
      ]
     },
     "execution_count": 131,
     "metadata": {},
     "output_type": "execute_result"
    }
   ],
   "source": [
    "len([[3,4]])"
   ]
  },
  {
   "cell_type": "code",
   "execution_count": 1,
   "metadata": {
    "collapsed": false
   },
   "outputs": [],
   "source": [
    "def do_stuff():\n",
    "    b=2"
   ]
  },
  {
   "cell_type": "code",
   "execution_count": 2,
   "metadata": {
    "collapsed": false
   },
   "outputs": [],
   "source": [
    "do_stuff()"
   ]
  },
  {
   "cell_type": "code",
   "execution_count": 3,
   "metadata": {
    "collapsed": false
   },
   "outputs": [
    {
     "ename": "NameError",
     "evalue": "name 'b' is not defined",
     "output_type": "error",
     "traceback": [
      "\u001b[1;31m---------------------------------------------------------------------------\u001b[0m\n\u001b[1;31mNameError\u001b[0m                                 Traceback (most recent call last)",
      "\u001b[1;32m<ipython-input-3-3b5d5c371295>\u001b[0m in \u001b[0;36m<module>\u001b[1;34m()\u001b[0m\n\u001b[1;32m----> 1\u001b[1;33m \u001b[0mb\u001b[0m\u001b[1;33m\u001b[0m\u001b[0m\n\u001b[0m",
      "\u001b[1;31mNameError\u001b[0m: name 'b' is not defined"
     ]
    }
   ],
   "source": [
    "b"
   ]
  },
  {
   "cell_type": "code",
   "execution_count": 2,
   "metadata": {
    "collapsed": false
   },
   "outputs": [],
   "source": [
    "import numpy as np\n",
    "farts=pd.DataFrame()\n",
    "farts['POLYLINE']=np.array([[[1,2],[4,5]],[],[[1.1,3.2]],[[3,4],[9,8],[1.1,4.3]]])\n",
    "farts['MISSING']=np.array([\"False\",\"False\",\"True\",\"False\"])"
   ]
  },
  {
   "cell_type": "code",
   "execution_count": 13,
   "metadata": {
    "collapsed": false
   },
   "outputs": [
    {
     "data": {
      "text/html": [
       "<div style=\"max-height:1000px;max-width:1500px;overflow:auto;\">\n",
       "<table border=\"1\" class=\"dataframe\">\n",
       "  <thead>\n",
       "    <tr style=\"text-align: right;\">\n",
       "      <th></th>\n",
       "      <th>POLYLINE</th>\n",
       "      <th>MISSING</th>\n",
       "      <th>S2L_LAT</th>\n",
       "      <th>S2L_LON</th>\n",
       "    </tr>\n",
       "  </thead>\n",
       "  <tbody>\n",
       "    <tr>\n",
       "      <th>0</th>\n",
       "      <td>             [[1, 2], [4, 5]]</td>\n",
       "      <td> False</td>\n",
       "      <td> 2.0</td>\n",
       "      <td> 1.0</td>\n",
       "    </tr>\n",
       "    <tr>\n",
       "      <th>2</th>\n",
       "      <td>                 [[1.1, 3.2]]</td>\n",
       "      <td>  True</td>\n",
       "      <td> 3.2</td>\n",
       "      <td> 1.1</td>\n",
       "    </tr>\n",
       "    <tr>\n",
       "      <th>3</th>\n",
       "      <td> [[3, 4], [9, 8], [1.1, 4.3]]</td>\n",
       "      <td> False</td>\n",
       "      <td> 8.0</td>\n",
       "      <td> 9.0</td>\n",
       "    </tr>\n",
       "  </tbody>\n",
       "</table>\n",
       "</div>"
      ],
      "text/plain": [
       "                       POLYLINE MISSING  S2L_LAT  S2L_LON\n",
       "0              [[1, 2], [4, 5]]   False      2.0      1.0\n",
       "2                  [[1.1, 3.2]]    True      3.2      1.1\n",
       "3  [[3, 4], [9, 8], [1.1, 4.3]]   False      8.0      9.0"
      ]
     },
     "execution_count": 13,
     "metadata": {},
     "output_type": "execute_result"
    }
   ],
   "source": [
    "rem_empty_polyline(farts)"
   ]
  },
  {
   "cell_type": "code",
   "execution_count": 15,
   "metadata": {
    "collapsed": false
   },
   "outputs": [
    {
     "data": {
      "text/html": [
       "<div style=\"max-height:1000px;max-width:1500px;overflow:auto;\">\n",
       "<table border=\"1\" class=\"dataframe\">\n",
       "  <thead>\n",
       "    <tr style=\"text-align: right;\">\n",
       "      <th></th>\n",
       "      <th>POLYLINE</th>\n",
       "      <th>MISSING</th>\n",
       "      <th>S2L_LAT</th>\n",
       "      <th>S2L_LON</th>\n",
       "    </tr>\n",
       "  </thead>\n",
       "  <tbody>\n",
       "    <tr>\n",
       "      <th>0</th>\n",
       "      <td>             [[1, 2], [4, 5]]</td>\n",
       "      <td> False</td>\n",
       "      <td>   2.0</td>\n",
       "      <td>   1.0</td>\n",
       "    </tr>\n",
       "    <tr>\n",
       "      <th>1</th>\n",
       "      <td>                           []</td>\n",
       "      <td> False</td>\n",
       "      <td>-999.0</td>\n",
       "      <td>-999.0</td>\n",
       "    </tr>\n",
       "    <tr>\n",
       "      <th>2</th>\n",
       "      <td>                 [[1.1, 3.2]]</td>\n",
       "      <td>  True</td>\n",
       "      <td>   3.2</td>\n",
       "      <td>   1.1</td>\n",
       "    </tr>\n",
       "    <tr>\n",
       "      <th>3</th>\n",
       "      <td> [[3, 4], [9, 8], [1.1, 4.3]]</td>\n",
       "      <td> False</td>\n",
       "      <td>   8.0</td>\n",
       "      <td>   9.0</td>\n",
       "    </tr>\n",
       "  </tbody>\n",
       "</table>\n",
       "</div>"
      ],
      "text/plain": [
       "                       POLYLINE MISSING  S2L_LAT  S2L_LON\n",
       "0              [[1, 2], [4, 5]]   False      2.0      1.0\n",
       "1                            []   False   -999.0   -999.0\n",
       "2                  [[1.1, 3.2]]    True      3.2      1.1\n",
       "3  [[3, 4], [9, 8], [1.1, 4.3]]   False      8.0      9.0"
      ]
     },
     "execution_count": 15,
     "metadata": {},
     "output_type": "execute_result"
    }
   ],
   "source": [
    "lat_long_2ndToLast(farts)"
   ]
  },
  {
   "cell_type": "code",
   "execution_count": 6,
   "metadata": {
    "collapsed": false
   },
   "outputs": [
    {
     "name": "stdout",
     "output_type": "stream",
     "text": [
      "False\n",
      "False\n",
      "True\n",
      "False\n"
     ]
    },
    {
     "data": {
      "text/html": [
       "<div style=\"max-height:1000px;max-width:1500px;overflow:auto;\">\n",
       "<table border=\"1\" class=\"dataframe\">\n",
       "  <thead>\n",
       "    <tr style=\"text-align: right;\">\n",
       "      <th></th>\n",
       "      <th>POLYLINE</th>\n",
       "      <th>MISSING</th>\n",
       "    </tr>\n",
       "  </thead>\n",
       "  <tbody>\n",
       "    <tr>\n",
       "      <th>0</th>\n",
       "      <td>             [[1, 2], [4, 5]]</td>\n",
       "      <td> False</td>\n",
       "    </tr>\n",
       "    <tr>\n",
       "      <th>1</th>\n",
       "      <td>                           []</td>\n",
       "      <td> False</td>\n",
       "    </tr>\n",
       "    <tr>\n",
       "      <th>3</th>\n",
       "      <td> [[3, 4], [9, 8], [1.1, 4.3]]</td>\n",
       "      <td> False</td>\n",
       "    </tr>\n",
       "  </tbody>\n",
       "</table>\n",
       "</div>"
      ],
      "text/plain": [
       "                       POLYLINE MISSING\n",
       "0              [[1, 2], [4, 5]]   False\n",
       "1                            []   False\n",
       "3  [[3, 4], [9, 8], [1.1, 4.3]]   False"
      ]
     },
     "execution_count": 6,
     "metadata": {},
     "output_type": "execute_result"
    }
   ],
   "source": [
    "rem_missing(farts)"
   ]
  },
  {
   "cell_type": "code",
   "execution_count": 16,
   "metadata": {
    "collapsed": false
   },
   "outputs": [
    {
     "data": {
      "text/html": [
       "<div style=\"max-height:1000px;max-width:1500px;overflow:auto;\">\n",
       "<table border=\"1\" class=\"dataframe\">\n",
       "  <thead>\n",
       "    <tr style=\"text-align: right;\">\n",
       "      <th></th>\n",
       "      <th>POLYLINE</th>\n",
       "      <th>MISSING</th>\n",
       "      <th>S2L_LAT</th>\n",
       "      <th>S2L_LON</th>\n",
       "    </tr>\n",
       "  </thead>\n",
       "  <tbody>\n",
       "    <tr>\n",
       "      <th>0</th>\n",
       "      <td>             [[1, 2], [4, 5]]</td>\n",
       "      <td> False</td>\n",
       "      <td>   2.0</td>\n",
       "      <td>   1.0</td>\n",
       "    </tr>\n",
       "    <tr>\n",
       "      <th>1</th>\n",
       "      <td>                           []</td>\n",
       "      <td> False</td>\n",
       "      <td>-999.0</td>\n",
       "      <td>-999.0</td>\n",
       "    </tr>\n",
       "    <tr>\n",
       "      <th>2</th>\n",
       "      <td>                 [[1.1, 3.2]]</td>\n",
       "      <td>  True</td>\n",
       "      <td>   3.2</td>\n",
       "      <td>   1.1</td>\n",
       "    </tr>\n",
       "    <tr>\n",
       "      <th>3</th>\n",
       "      <td> [[3, 4], [9, 8], [1.1, 4.3]]</td>\n",
       "      <td> False</td>\n",
       "      <td>   8.0</td>\n",
       "      <td>   9.0</td>\n",
       "    </tr>\n",
       "  </tbody>\n",
       "</table>\n",
       "</div>"
      ],
      "text/plain": [
       "                       POLYLINE MISSING  S2L_LAT  S2L_LON\n",
       "0              [[1, 2], [4, 5]]   False      2.0      1.0\n",
       "1                            []   False   -999.0   -999.0\n",
       "2                  [[1.1, 3.2]]    True      3.2      1.1\n",
       "3  [[3, 4], [9, 8], [1.1, 4.3]]   False      8.0      9.0"
      ]
     },
     "execution_count": 16,
     "metadata": {},
     "output_type": "execute_result"
    }
   ],
   "source": [
    "farts"
   ]
  },
  {
   "cell_type": "code",
   "execution_count": 3,
   "metadata": {
    "collapsed": false
   },
   "outputs": [
    {
     "data": {
      "text/plain": [
       "True"
      ]
     },
     "execution_count": 3,
     "metadata": {},
     "output_type": "execute_result"
    }
   ],
   "source": [
    "farts.MISSING.values[2]==\"True\""
   ]
  },
  {
   "cell_type": "code",
   "execution_count": 15,
   "metadata": {
    "collapsed": false
   },
   "outputs": [
    {
     "data": {
      "text/plain": [
       "3.1415926535897931"
      ]
     },
     "execution_count": 15,
     "metadata": {},
     "output_type": "execute_result"
    }
   ],
   "source": [
    "np.arctan(1)*4"
   ]
  },
  {
   "cell_type": "code",
   "execution_count": 16,
   "metadata": {
    "collapsed": false
   },
   "outputs": [
    {
     "data": {
      "text/plain": [
       "1.4142135623730951"
      ]
     },
     "execution_count": 16,
     "metadata": {},
     "output_type": "execute_result"
    }
   ],
   "source": [
    "np.sqrt(2)"
   ]
  },
  {
   "cell_type": "code",
   "execution_count": 23,
   "metadata": {
    "collapsed": false
   },
   "outputs": [
    {
     "data": {
      "text/plain": [
       "True"
      ]
     },
     "execution_count": 23,
     "metadata": {},
     "output_type": "execute_result"
    }
   ],
   "source": []
  },
  {
   "cell_type": "code",
   "execution_count": 26,
   "metadata": {
    "collapsed": false
   },
   "outputs": [
    {
     "data": {
      "text/plain": [
       "[1, 1, 1]"
      ]
     },
     "execution_count": 26,
     "metadata": {},
     "output_type": "execute_result"
    }
   ],
   "source": [
    "[1]*3"
   ]
  },
  {
   "cell_type": "code",
   "execution_count": 12,
   "metadata": {
    "collapsed": false
   },
   "outputs": [
    {
     "data": {
      "text/plain": [
       "3.141592653589793"
      ]
     },
     "execution_count": 12,
     "metadata": {},
     "output_type": "execute_result"
    }
   ],
   "source": [
    "np.pi"
   ]
  },
  {
   "cell_type": "code",
   "execution_count": null,
   "metadata": {
    "collapsed": false
   },
   "outputs": [],
   "source": []
  }
 ],
 "metadata": {
  "kernelspec": {
   "display_name": "Python 2",
   "language": "python",
   "name": "python2"
  },
  "language_info": {
   "codemirror_mode": {
    "name": "ipython",
    "version": 2
   },
   "file_extension": ".py",
   "mimetype": "text/x-python",
   "name": "python",
   "nbconvert_exporter": "python",
   "pygments_lexer": "ipython2",
   "version": "2.7.12"
  }
 },
 "nbformat": 4,
 "nbformat_minor": 0
}
